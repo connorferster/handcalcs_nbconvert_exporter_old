{
 "cells": [
  {
   "cell_type": "code",
   "execution_count": 256,
   "metadata": {},
   "outputs": [],
   "source": [
    "import handcalcs.render\n",
    "import forallpeople\n",
    "forallpeople.environment('structural', top_level=True)"
   ]
  },
  {
   "cell_type": "markdown",
   "metadata": {},
   "source": [
    "# Shear Interface Resistance\n",
    "\n",
    "Force transfer between walls and slab in Office Tower **Wall Direction @ L01**\n"
   ]
  },
  {
   "cell_type": "markdown",
   "metadata": {},
   "source": [
    "## Slab depth"
   ]
  },
  {
   "cell_type": "code",
   "execution_count": 257,
   "metadata": {},
   "outputs": [
    {
     "data": {
      "text/latex": [
       "\\[\n",
       "\\begin{aligned}\n",
       "t &= 9.000\\ \\text{inch} \\; \\;\\textrm{(Slab thickness)}\n",
       " &L_{web} &= 28.250\\ \\text{ft} \\; \\;\\textrm{(Length of S. Wall at slab)}\\end{aligned}\n",
       "\\]"
      ],
      "text/plain": [
       "<IPython.core.display.Latex object>"
      ]
     },
     "metadata": {},
     "output_type": "display_data"
    }
   ],
   "source": [
    "%%render params\n",
    "t = 9*inch # Slab thickness\n",
    "L_web = 28.25*ft# Length of S. Wall at slab"
   ]
  },
  {
   "cell_type": "markdown",
   "metadata": {},
   "source": [
    "# Factored Loading"
   ]
  },
  {
   "cell_type": "code",
   "execution_count": 258,
   "metadata": {},
   "outputs": [
    {
     "data": {
      "text/latex": [
       "\\[\n",
       "\\begin{aligned}\n",
       "V_{wall} &= 810.000\\ \\text{kip} \\; \n",
       "\\\\[10pt]\n",
       "\\mathrm{OS}_{wall} &= 3.5 \\cdot \\frac{ 1.6 }{ 1.3 } &= 4.308  \n",
       "\\\\[10pt]\n",
       "V_{f_{wall}} &= V_{wall} \\cdot \\mathrm{OS}_{wall}  = 810.000\\ \\text{kip} \\cdot 4.308 &= 3489.231\\ \\text{kip}  \n",
       "\\end{aligned}\n",
       "\\]"
      ],
      "text/plain": [
       "<IPython.core.display.Latex object>"
      ]
     },
     "metadata": {},
     "output_type": "display_data"
    }
   ],
   "source": [
    "%%render\n",
    "V_wall = (810*kip)\n",
    "OS_wall = 3.5*1.6/1.3\n",
    "V_f_wall = V_wall * OS_wall"
   ]
  },
  {
   "cell_type": "markdown",
   "metadata": {},
   "source": [
    "# Interface Shear Resistance Cl. 11.5.1"
   ]
  },
  {
   "cell_type": "code",
   "execution_count": 259,
   "metadata": {},
   "outputs": [],
   "source": [
    "from math import sin, cos, pi, radians"
   ]
  },
  {
   "cell_type": "markdown",
   "metadata": {},
   "source": [
    "### Material Properties"
   ]
  },
  {
   "cell_type": "code",
   "execution_count": 260,
   "metadata": {},
   "outputs": [
    {
     "data": {
      "text/latex": [
       "\\[\n",
       "\\begin{aligned}\n",
       "\\phi_{c} &= 0.65 \\; \n",
       " &\\phi_{s} &= 0.85 \\; \n",
       " &f_{y} &= 400.000\\ \\text{MPa} \\; \n",
       "\\\\[10pt]\n",
       " f'_{c} &= 35.000\\ \\text{MPa} \\; \n",
       " &c &= 500.000\\ \\text{kPa} \\; \\;\\textrm{(5 mm amplitude)}\n",
       " &\\mu &= 1.0 \\; \\;\\textrm{(5 mm amplitude)}\n",
       "\\\\[10pt]\n",
       " \\alpha_{deg} &= 90 \\;\\end{aligned}\n",
       "\\]"
      ],
      "text/plain": [
       "<IPython.core.display.Latex object>"
      ]
     },
     "metadata": {},
     "output_type": "display_data"
    }
   ],
   "source": [
    "%%render params\n",
    "phi_c = 0.65\n",
    "phi_s = 0.85\n",
    "f_y = 400*MPa\n",
    "f_prime_c = 35*MPa\n",
    "c = 0.50*MPa # 5 mm amplitude\n",
    "mu = 1.0 # 5 mm amplitude\n",
    "alpha_deg = 90"
   ]
  },
  {
   "cell_type": "markdown",
   "metadata": {},
   "source": [
    "### Bar reductions\n",
    "Ratio of existing flexural bar area available to resist shear"
   ]
  },
  {
   "cell_type": "code",
   "execution_count": 261,
   "metadata": {},
   "outputs": [
    {
     "data": {
      "text/latex": [
       "\\[\n",
       "\\begin{aligned}\n",
       "\\mathrm{ratio}_{BarArea} &= 0.3 \\; \n",
       "\\end{aligned}\n",
       "\\]"
      ],
      "text/plain": [
       "<IPython.core.display.Latex object>"
      ]
     },
     "metadata": {},
     "output_type": "display_data"
    }
   ],
   "source": [
    "%%render\n",
    "ratio_BarArea = 0.30"
   ]
  },
  {
   "cell_type": "markdown",
   "metadata": {},
   "source": [
    "## Existing Bars"
   ]
  },
  {
   "cell_type": "code",
   "execution_count": 262,
   "metadata": {},
   "outputs": [
    {
     "data": {
      "text/latex": [
       "\\[\n",
       "\\begin{aligned}\n",
       "b_{unit} &= 1.000\\ \\text{ft} \\; \\;\\textrm{(Unit width)}\n",
       " &\\alpha_{f} &= 1.571 \\; \\;\\textrm{(rads)}\n",
       " &A_{g} &= 108.000\\ \\text{inch}^{2} \\; \n",
       "\\\\[10pt]\n",
       " A_{bar} &= 300.000\\ \\text{mm}^{2} \\; \n",
       " &s_{h_{top}} &= 8.000\\ \\text{inch} \\; \\;\\textrm{(Bars parallel to wall)}\n",
       " &s_{h_{bot}} &= 12.000\\ \\text{inch} \\; \\;\\textrm{(Bars parallel to wall)}\n",
       "\\\\[10pt]\\end{aligned}\n",
       "\\]"
      ],
      "text/plain": [
       "<IPython.core.display.Latex object>"
      ]
     },
     "metadata": {},
     "output_type": "display_data"
    }
   ],
   "source": [
    "%%render params\n",
    "b_unit = (1*ft) # Unit width\n",
    "alpha_f = radians(alpha_deg) #rads\n",
    "A_g = (t*(b_unit)).to(\"inch\")\n",
    "A_bar = 300*mm**2\n",
    "s_h_top = 8*inch # Bars parallel to wall\n",
    "s_h_bot = 12*inch # Bars parallel to wall"
   ]
  },
  {
   "cell_type": "markdown",
   "metadata": {},
   "source": [
    "### Calculate $\\rho_v$"
   ]
  },
  {
   "cell_type": "code",
   "execution_count": 263,
   "metadata": {},
   "outputs": [
    {
     "data": {
      "text/latex": [
       "\\[\n",
       "\\begin{aligned}\n",
       "\\rho_{v} &= \\frac{ A_{bar} \\cdot \\left( \\frac{ b_{unit} }{ s_{h_{top}} } + \\frac{ b_{unit} }{ s_{h_{bot}} } \\right) \\cdot \\mathrm{ratio}_{BarArea} }{ A_{g} } \\\\&= \\frac{ 300.000\\ \\text{mm}^{2} \\cdot \\left( \\frac{ 1.000\\ \\text{ft} }{ 8.000\\ \\text{inch} } + \\frac{ 1.000\\ \\text{ft} }{ 12.000\\ \\text{inch} } \\right) \\cdot 0.3 }{ 108.000\\ \\text{inch}^{2} } \\\\&= 3.229 \\times 10 ^ {-3 }  \\\\\n",
       "\\end{aligned}\n",
       "\\]"
      ],
      "text/plain": [
       "<IPython.core.display.Latex object>"
      ]
     },
     "metadata": {},
     "output_type": "display_data"
    }
   ],
   "source": [
    "%%render\n",
    "rho_v = (A_bar *  (b_unit/s_h_top + b_unit/s_h_bot) * ratio_BarArea ) / A_g"
   ]
  },
  {
   "cell_type": "markdown",
   "metadata": {},
   "source": [
    "### Calculate $\\sigma$"
   ]
  },
  {
   "cell_type": "code",
   "execution_count": 264,
   "metadata": {},
   "outputs": [
    {
     "data": {
      "text/latex": [
       "\\[\n",
       "\\begin{aligned}\n",
       "\\sigma &= \\rho_{v} \\cdot f_{y} \\cdot \\sin \\left( \\alpha_{f} \\right) \\\\&= 3.229 \\times 10 ^ {-3 } \\cdot 400.000\\ \\text{MPa} \\cdot \\sin \\left( 1.571 \\right) \\\\&= 1.292\\ \\text{MPa} \\; \\;\\textrm{(No permanent perpendicular load)}\\\\\n",
       "\\end{aligned}\n",
       "\\]"
      ],
      "text/plain": [
       "<IPython.core.display.Latex object>"
      ]
     },
     "metadata": {},
     "output_type": "display_data"
    }
   ],
   "source": [
    "%%render long\n",
    "sigma = rho_v * f_y * sin(alpha_f) # No permanent perpendicular load"
   ]
  },
  {
   "cell_type": "markdown",
   "metadata": {},
   "source": [
    "### Calculate Components of $v_r$"
   ]
  },
  {
   "cell_type": "markdown",
   "metadata": {},
   "source": [
    "#### Concrete components"
   ]
  },
  {
   "cell_type": "code",
   "execution_count": 265,
   "metadata": {},
   "outputs": [
    {
     "data": {
      "text/latex": [
       "\\[\n",
       "\\begin{aligned}\n",
       "v_{a} &= \\phi_{c} \\cdot \\left( c + \\mu \\cdot \\sigma \\right)  = 0.65 \\cdot \\left( 500.000\\ \\text{kPa} + 1.0 \\cdot 1.292\\ \\text{MPa} \\right) &= 1.165\\ \\text{MPa}  \n",
       "\\\\[10pt]\n",
       "v_{b} &= 0.25 \\cdot \\phi_{c} \\cdot f'_{c}  = 0.25 \\cdot 0.65 \\cdot 35.000\\ \\text{MPa} &= 5.688\\ \\text{MPa}  \n",
       "\\\\[10pt]\n",
       "v_{c} &= \\operatorname{min} { \\left( v_{a} ,\\  v_{b} \\right) }  = \\operatorname{min} { \\left( 1.165\\ \\text{MPa} ,\\  5.688\\ \\text{MPa} \\right) } &= 1.165\\ \\text{MPa}  \n",
       "\\end{aligned}\n",
       "\\]"
      ],
      "text/plain": [
       "<IPython.core.display.Latex object>"
      ]
     },
     "metadata": {},
     "output_type": "display_data"
    }
   ],
   "source": [
    "%%render\n",
    "v_a = phi_c * (c + mu*sigma)\n",
    "v_b = 0.25*phi_c*f_prime_c\n",
    "v_c = min(v_a,v_b)"
   ]
  },
  {
   "cell_type": "markdown",
   "metadata": {},
   "source": [
    "#### Steel components"
   ]
  },
  {
   "cell_type": "code",
   "execution_count": 266,
   "metadata": {},
   "outputs": [
    {
     "data": {
      "text/latex": [
       "\\[\n",
       "\\begin{aligned}\n",
       "v_{s} &= \\phi_{s} \\cdot \\rho_{v} \\cdot f_{y} \\cdot \\cos \\left( \\alpha_{f} \\right) \\\\&= 0.85 \\cdot 3.229 \\times 10 ^ {-3 } \\cdot 400.000\\ \\text{MPa} \\cdot \\cos \\left( 1.571 \\right) \\\\&= 67.228\\ \\text{pPa}  \\\\\n",
       "\\end{aligned}\n",
       "\\]"
      ],
      "text/plain": [
       "<IPython.core.display.Latex object>"
      ]
     },
     "metadata": {},
     "output_type": "display_data"
    }
   ],
   "source": [
    "%%render long\n",
    "v_s = phi_s * rho_v * f_y * cos(alpha_f)"
   ]
  },
  {
   "cell_type": "markdown",
   "metadata": {},
   "source": [
    "#### Combined"
   ]
  },
  {
   "cell_type": "code",
   "execution_count": 267,
   "metadata": {},
   "outputs": [
    {
     "data": {
      "text/latex": [
       "\\[\n",
       "\\begin{aligned}\n",
       "v_{r} &= v_{c} + v_{s} \\\\&= 1.165\\ \\text{MPa} + 67.228\\ \\text{pPa} \\\\&= 1.165\\ \\text{MPa}  \\\\\n",
       "\\end{aligned}\n",
       "\\]"
      ],
      "text/plain": [
       "<IPython.core.display.Latex object>"
      ]
     },
     "metadata": {},
     "output_type": "display_data"
    }
   ],
   "source": [
    "%%render long\n",
    "v_r = v_c + v_s"
   ]
  },
  {
   "cell_type": "markdown",
   "metadata": {},
   "source": [
    "## Shear Force Resistance"
   ]
  },
  {
   "cell_type": "code",
   "execution_count": 268,
   "metadata": {},
   "outputs": [
    {
     "data": {
      "text/latex": [
       "\\[\n",
       "\\begin{aligned}\n",
       "V_{r} &= v_{r} \\cdot t  = 1.165\\ \\text{MPa} \\cdot 9.000\\ \\text{inch} &= 18.242\\ \\text{kip/ft}  \n",
       "\\\\[10pt]\n",
       "V_{r} &= 18.242\\ \\text{kip/ft} \\; \n",
       "\\end{aligned}\n",
       "\\]"
      ],
      "text/plain": [
       "<IPython.core.display.Latex object>"
      ]
     },
     "metadata": {},
     "output_type": "display_data"
    }
   ],
   "source": [
    "%%render\n",
    "V_r = v_r * t\n",
    "V_r = V_r.to('kip_ft')"
   ]
  },
  {
   "cell_type": "markdown",
   "metadata": {},
   "source": [
    "## Shear Force Resistance, Full Wall Length"
   ]
  },
  {
   "cell_type": "code",
   "execution_count": 269,
   "metadata": {},
   "outputs": [
    {
     "data": {
      "text/latex": [
       "\\[\n",
       "\\begin{aligned}\n",
       "V_{r_{wall}} &= V_{r} \\cdot L_{web} \\\\&= 18.242\\ \\text{kip/ft} \\cdot 28.250\\ \\text{ft} \\\\&= 515.341\\ \\text{kip}  \\\\\n",
       "\\\\[10pt]\n",
       "V_{r_{slab_{steel}}} &= \\left( \\phi_{s} \\cdot f_{y} \\cdot A_{bar} \\cdot \\left( \\frac{ b_{unit} }{ s_{h_{top}} } + \\frac{ b_{unit} }{ s_{h_{bot}} } \\right) \\cdot \\mathrm{ratio}_{BarArea} \\right) \\\\&= \\left( 0.85 \\cdot 400.000\\ \\text{MPa} \\cdot 300.000\\ \\text{mm}^{2} \\cdot \\left( \\frac{ 1.000\\ \\text{ft} }{ 8.000\\ \\text{inch} } + \\frac{ 1.000\\ \\text{ft} }{ 12.000\\ \\text{inch} } \\right) \\cdot 0.3 \\right) \\\\&= 17.198\\ \\text{kip}  \\\\\n",
       "\\end{aligned}\n",
       "\\]"
      ],
      "text/plain": [
       "<IPython.core.display.Latex object>"
      ]
     },
     "metadata": {},
     "output_type": "display_data"
    }
   ],
   "source": [
    "%%render long\n",
    "V_r_wall = V_r * L_web\n",
    "V_r_slab_steel = (phi_s * f_y * A_bar * (b_unit/s_h_top + b_unit/s_h_bot) * ratio_BarArea).to('kip')"
   ]
  },
  {
   "cell_type": "code",
   "execution_count": 270,
   "metadata": {},
   "outputs": [
    {
     "data": {
      "text/latex": [
       "\\[\n",
       "\\begin{aligned}\n",
       "V_{r_{req}} &= V_{f_{wall}} - \\left( V_{r_{wall}} \\cdot 2 \\right) - V_{r_{slab_{steel}}}  = 3489.231\\ \\text{kip} - \\left( 515.341\\ \\text{kip} \\cdot 2 \\right) - 17.198\\ \\text{kip} &= 2441.352\\ \\text{kip}  \n",
       "\\end{aligned}\n",
       "\\]"
      ],
      "text/plain": [
       "<IPython.core.display.Latex object>"
      ]
     },
     "metadata": {},
     "output_type": "display_data"
    }
   ],
   "source": [
    "%%render\n",
    "V_r_req = V_f_wall - (V_r_wall*2) - V_r_slab_steel"
   ]
  },
  {
   "cell_type": "code",
   "execution_count": null,
   "metadata": {},
   "outputs": [],
   "source": []
  }
 ],
 "metadata": {
  "kernelspec": {
   "display_name": "Python 3",
   "language": "python",
   "name": "python3"
  },
  "language_info": {
   "codemirror_mode": {
    "name": "ipython",
    "version": 3
   },
   "file_extension": ".py",
   "mimetype": "text/x-python",
   "name": "python",
   "nbconvert_exporter": "python",
   "pygments_lexer": "ipython3",
   "version": "3.7.7"
  }
 },
 "nbformat": 4,
 "nbformat_minor": 4
}
